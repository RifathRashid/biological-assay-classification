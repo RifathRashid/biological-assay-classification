{
 "cells": [
  {
   "cell_type": "code",
   "execution_count": 52,
   "metadata": {},
   "outputs": [],
   "source": [
    "import sklearn\n",
    "from sklearn.neural_network import MLPClassifier\n",
    "from sklearn.naive_bayes import GaussianNB, BernoulliNB\n",
    "from sklearn.metrics import confusion_matrix\n",
    "import numpy as np\n",
    "from __future__ import print_function"
   ]
  },
  {
   "cell_type": "code",
   "execution_count": 53,
   "metadata": {},
   "outputs": [],
   "source": [
    "def read_file(filename):\n",
    "    '''\n",
    "    Parameters\n",
    "    - filename: str\n",
    "        File must be tab-delimited as follows: smiles code, fingerprint, label\n",
    "    \n",
    "    Returns\n",
    "    - (X, Y): tuple of np.arrays\n",
    "        X is an array of features\n",
    "        Y is a vector of labels\n",
    "    '''\n",
    "    X = []\n",
    "    Y = []\n",
    "    input_file = open(filename, 'r')\n",
    "    \n",
    "    for line in input_file:\n",
    "        # split line (1 data point) into smiles, fingerprint (features), and label\n",
    "        split_line = line.strip().split('\\t')\n",
    "        smiles = split_line[0]\n",
    "        fingerprint = [int(c) for c in split_line[1]]\n",
    "        label = int(split_line[2])\n",
    "        \n",
    "        # append data point to train_x (features) and train_y (labels)\n",
    "        X.append(fingerprint)\n",
    "        Y.append(label)\n",
    "    input_file.close()\n",
    "    return (np.array(X), np.array(Y))\n",
    "\n",
    "def train_and_test(model, train_x, train_y, test_x, test_y):\n",
    "    '''\n",
    "    Parameters\n",
    "    - model: sklearn model\n",
    "    - train_x: array, shape (n_samples, n_features)\n",
    "        The input data for training.\n",
    "    - train_y: array, shape (n_samples,) or (n_samples, n_outputs)\n",
    "        The target training values (class labels in classification, real numbers in regression).\n",
    "    - test_x: array, shape (n_samples, n_features)\n",
    "        The input data for testing\n",
    "    - test_y: array, shape (n_samples,) or (n_samples, n_outputs)\n",
    "        The target testing values (class labels in classification, real numbers in regression).\n",
    "    \n",
    "    Prints\n",
    "    - Training confusion matrix\n",
    "    - Testing confusion matrix\n",
    "    - AUROC\n",
    "    '''\n",
    "    # fit model parameters\n",
    "    model.fit(train_x, train_y)\n",
    "    \n",
    "    # apply model to train and test data\n",
    "    train_predictions = model.predict(train_x)\n",
    "    test_predictions = model.predict(test_x)\n",
    "    \n",
    "    # print confusion matricies\n",
    "    print('train confusion matrix')\n",
    "    print(confusion_matrix(train_y, train_predictions))\n",
    "    print('test confusion matrix')\n",
    "    print(confusion_matrix(test_y, test_predictions))\n",
    "    \n",
    "    # calculate AUROC\n",
    "    y_score = model.predict_proba(test_x)\n",
    "    # print(y_score)\n",
    "    print('AUROC: ', end='')\n",
    "    print(sklearn.metrics.roc_auc_score(test_y, y_score[:,1]))"
   ]
  },
  {
   "cell_type": "code",
   "execution_count": 54,
   "metadata": {
    "collapsed": true
   },
   "outputs": [],
   "source": [
    "# Data\n",
    "train_filename = './train_fingerprints/nr-ar.fp'\n",
    "X, Y  = read_file(train_filename)\n",
    "train_x = X[0:-100]\n",
    "train_y = Y[0:-100]\n",
    "test_x = X[-100:]\n",
    "test_y = Y[-100:]"
   ]
  },
  {
   "cell_type": "code",
   "execution_count": 55,
   "metadata": {},
   "outputs": [
    {
     "name": "stdout",
     "output_type": "stream",
     "text": [
      "train confusion matrix\n",
      "[[619 771]\n",
      " [  0  99]]\n",
      "test confusion matrix\n",
      "[[40 54]\n",
      " [ 0  6]]\n",
      "AUROC: 0.712765957447\n"
     ]
    }
   ],
   "source": [
    "# Naive Bayes - Gaussian\n",
    "model = GaussianNB()\n",
    "train_and_test(model, train_x, train_y, test_x, test_y)"
   ]
  },
  {
   "cell_type": "code",
   "execution_count": 56,
   "metadata": {},
   "outputs": [
    {
     "name": "stdout",
     "output_type": "stream",
     "text": [
      "train confusion matrix\n",
      "[[1246  144]\n",
      " [  32   67]]\n",
      "test confusion matrix\n",
      "[[82 12]\n",
      " [ 4  2]]\n",
      "AUROC: 0.739361702128\n"
     ]
    }
   ],
   "source": [
    "# Naive Bayes - Bernoulli\n",
    "model = BernoulliNB()\n",
    "train_and_test(model, train_x, train_y, test_x, test_y)"
   ]
  },
  {
   "cell_type": "code",
   "execution_count": 57,
   "metadata": {},
   "outputs": [
    {
     "name": "stdout",
     "output_type": "stream",
     "text": [
      "train confusion matrix\n",
      "[[1389    1]\n",
      " [   4   95]]\n",
      "test confusion matrix\n",
      "[[92  2]\n",
      " [ 4  2]]\n",
      "AUROC: 0.890070921986\n"
     ]
    }
   ],
   "source": [
    "## Neural network - default parameters\n",
    "model = MLPClassifier()\n",
    "train_and_test(model, train_x, train_y, test_x, test_y)"
   ]
  },
  {
   "cell_type": "code",
   "execution_count": 58,
   "metadata": {},
   "outputs": [
    {
     "name": "stdout",
     "output_type": "stream",
     "text": [
      "train confusion matrix\n",
      "[[1388    2]\n",
      " [  31   68]]\n",
      "test confusion matrix\n",
      "[[93  1]\n",
      " [ 4  2]]\n",
      "AUROC: 0.882978723404\n"
     ]
    }
   ],
   "source": [
    "## Neural network\n",
    "model = MLPClassifier(alpha=1)\n",
    "train_and_test(model, train_x, train_y, test_x, test_y)"
   ]
  }
 ],
 "metadata": {
  "kernelspec": {
   "display_name": "Python 2",
   "language": "python",
   "name": "python2"
  },
  "language_info": {
   "codemirror_mode": {
    "name": "ipython",
    "version": 2
   },
   "file_extension": ".py",
   "mimetype": "text/x-python",
   "name": "python",
   "nbconvert_exporter": "python",
   "pygments_lexer": "ipython2",
   "version": "2.7.13"
  }
 },
 "nbformat": 4,
 "nbformat_minor": 2
}
