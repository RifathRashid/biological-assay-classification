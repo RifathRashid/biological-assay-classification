{
 "cells": [
  {
   "cell_type": "code",
   "execution_count": 1,
   "metadata": {},
   "outputs": [],
   "source": [
    "from pubchempy import *\n",
    "from sklearn.neural_network import MLPClassifier\n",
    "from sklearn.metrics import confusion_matrix\n",
    "import numpy as np"
   ]
  },
  {
   "cell_type": "code",
   "execution_count": 2,
   "metadata": {
    "collapsed": true
   },
   "outputs": [],
   "source": [
    "def read_file(filename):\n",
    "    X = []\n",
    "    Y = []\n",
    "    input_file = open(filename, 'r')\n",
    "    \n",
    "    for line in input_file:\n",
    "        # split line (1 data point) into smiles, fingerprint (features), and label\n",
    "        split_line = line.strip().split('\\t')\n",
    "        smiles = split_line[0]\n",
    "        fingerprint = [int(c) for c in split_line[1]]\n",
    "        label = int(split_line[2])\n",
    "        \n",
    "        # append data point to train_x (features) and train_y (labels)\n",
    "        X.append(fingerprint)\n",
    "        Y.append(label)\n",
    "    input_file.close()\n",
    "    return (np.array(X), np.array(Y))"
   ]
  },
  {
   "cell_type": "code",
   "execution_count": 3,
   "metadata": {},
   "outputs": [
    {
     "name": "stdout",
     "output_type": "stream",
     "text": [
      "[[1388    2]\n",
      " [   6   93]]\n",
      "[[92  2]\n",
      " [ 4  2]]\n"
     ]
    }
   ],
   "source": [
    "## Main\n",
    "train_filename = './train_fingerprints/nr-ar.fp'\n",
    "X, Y  = read_file(train_filename)\n",
    "train_x = X[0:-100]\n",
    "train_y = Y[0:-100]\n",
    "test_x = X[-100:]\n",
    "test_y = Y[-100:]\n",
    "\n",
    "model = MLPClassifier()\n",
    "model.fit(train_x, train_y)\n",
    "train_predictions = model.predict(train_x)\n",
    "test_predictions = model.predict(test_x)\n",
    "print(confusion_matrix(train_y, train_predictions))\n",
    "print(confusion_matrix(test_y, test_predictions))"
   ]
  }
 ],
 "metadata": {
  "kernelspec": {
   "display_name": "Python 2",
   "language": "python",
   "name": "python2"
  },
  "language_info": {
   "codemirror_mode": {
    "name": "ipython",
    "version": 2
   },
   "file_extension": ".py",
   "mimetype": "text/x-python",
   "name": "python",
   "nbconvert_exporter": "python",
   "pygments_lexer": "ipython2",
   "version": "2.7.13"
  }
 },
 "nbformat": 4,
 "nbformat_minor": 2
}
