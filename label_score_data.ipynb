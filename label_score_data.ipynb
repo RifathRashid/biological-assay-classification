{
 "cells": [
  {
   "cell_type": "code",
   "execution_count": 1,
   "metadata": {},
   "outputs": [],
   "source": [
    "import pandas as pd"
   ]
  },
  {
   "cell_type": "code",
   "execution_count": 32,
   "metadata": {},
   "outputs": [],
   "source": [
    "assay_types = ['nr-ar', 'nr-ar-lbd', 'nr-ahr', 'nr-er', 'nr-er-lbd', 'nr-aromatase', \\\n",
    "               'nr-ppar-gamma', 'sr-are', 'sr-atad5', 'sr-hse', 'sr-mmp', 'sr-p53'] # all lowercase\n",
    "\n",
    "# score data - final evaluation dataset used for judging\n",
    "smiles_filename = './data/score/tox21_10k_challenge_score.smiles'\n",
    "results_filename = './data/score/tox21_10k_challenge_score.txt'\n",
    "\n",
    "# read results file into pandas Dataframe\n",
    "results = pd.read_csv(results_filename, sep='\\t', header=0)\n",
    "results.columns = [name.lower() for name in results.columns] # make all column names (assay names) lowercase\n",
    "\n",
    "with open(smiles_filename, 'r') as smiles_file:\n",
    "    for line in smiles_file:\n",
    "        # ignore comments\n",
    "        if line[0] == '#':\n",
    "            continue\n",
    "\n",
    "        # Get compound ID\n",
    "        parsed_line = line.strip().split('\\t')\n",
    "        compound_id = parsed_line[1].strip()\n",
    "\n",
    "        index = results.index[results['sample id'] == compound_id].tolist()[0]\n",
    "\n",
    "        for assay in assay_types:\n",
    "            label = results[assay][index]\n",
    "            if label in ['0','1']:\n",
    "                labeled_filename = './data/score/' + assay + '.smiles'\n",
    "                with open(labeled_filename, 'a') as labeled_file:\n",
    "                    labeled_file.write(line.strip() + '\\t' + label + '\\n')"
   ]
  }
 ],
 "metadata": {
  "kernelspec": {
   "display_name": "Python 2",
   "language": "python",
   "name": "python2"
  },
  "language_info": {
   "codemirror_mode": {
    "name": "ipython",
    "version": 2
   },
   "file_extension": ".py",
   "mimetype": "text/x-python",
   "name": "python",
   "nbconvert_exporter": "python",
   "pygments_lexer": "ipython2",
   "version": "2.7.13"
  }
 },
 "nbformat": 4,
 "nbformat_minor": 2
}
