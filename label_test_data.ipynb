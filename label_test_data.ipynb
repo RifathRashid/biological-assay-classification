{
 "cells": [
  {
   "cell_type": "code",
   "execution_count": null,
   "metadata": {},
   "outputs": [],
   "source": [
    "def label_test_data(smiles_filename, sdf_filename, labeled_filename, assay_name):\n",
    "    with open(smiles_filename, 'r') as smiles_file:\n",
    "        with open(sdf_filename, 'r') as sdf_file:\n",
    "            with open(labeled_filename, 'w') as labeled_file:\n",
    "                for line in smiles_file:\n",
    "                    # ignore comments\n",
    "                    if line[0] == '#':\n",
    "                        continue\n",
    "                    \n",
    "                    # Get compound ID\n",
    "                    parsed_line = line.split('\\t')\n",
    "                    compound_id = parsed_line[1].strip()\n",
    "                    \n",
    "                    # Read through SDF file until finding the compound\n",
    "                    while True:\n",
    "                        temp = sdf_file.readline().strip()\n",
    "                        if temp == compound_id:\n",
    "                            break\n",
    "                    \n",
    "                    # Within the section of the compound, look for labels for the assay\n",
    "                    while True:\n",
    "                        temp = sdf_file.readline().strip().lower()\n",
    "                        if temp == '$$$$': # reached end of section of the compound\n",
    "                            break\n",
    "                        elif '<' + assay_name + '>' in temp:\n",
    "                            labeled_file.write(line.strip())\n",
    "                            label = sdf_file.readline().strip()\n",
    "                            labeled_file.write('\\t' + label + '\\n')"
   ]
  },
  {
   "cell_type": "code",
   "execution_count": null,
   "metadata": {},
   "outputs": [],
   "source": [
    "assay_types = ['nr-ar', 'nr-ar-lbd', 'nr-ahr', 'nr-er', 'nr-er-lbd', 'nr-aromatase', \\\n",
    "               'nr-ppar-gamma', 'sr-are', 'sr-atad5', 'sr-hse', 'sr-mmp', 'sr-p53'] # all lowercase\n",
    "\n",
    "# test data - only used to evaluate performance for the leaderboard\n",
    "smiles_filename = './data/test/tox21_10k_challenge_test.smiles'\n",
    "sdf_filename = './data/test/tox21_10k_challenge_test.sdf'\n",
    "for assay in assay_types:\n",
    "    labeled_filename = './data/test/' + assay + '.smiles'\n",
    "    label_test_data(smiles_filename, sdf_filename, labeled_filename, assay)"
   ]
  }
 ],
 "metadata": {
  "kernelspec": {
   "display_name": "Python 2",
   "language": "python",
   "name": "python2"
  },
  "language_info": {
   "codemirror_mode": {
    "name": "ipython",
    "version": 2
   },
   "file_extension": ".py",
   "mimetype": "text/x-python",
   "name": "python",
   "nbconvert_exporter": "python",
   "pygments_lexer": "ipython2",
   "version": "2.7.13"
  }
 },
 "nbformat": 4,
 "nbformat_minor": 2
}
