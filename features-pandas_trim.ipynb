{
 "cells": [
  {
   "cell_type": "code",
   "execution_count": 1,
   "metadata": {},
   "outputs": [],
   "source": [
    "import pandas as pd\n",
    "import numpy as np\n",
    "import os"
   ]
  },
  {
   "cell_type": "code",
   "execution_count": 19,
   "metadata": {},
   "outputs": [
    {
     "name": "stdout",
     "output_type": "stream",
     "text": [
      "['Unnamed: 0', 'atoms', 'bonds', 'canonical_smiles', 'conformer_id_3d', 'conformer_rmsd_3d', 'coordinate_type', 'effective_rotor_count_3d', 'elements', 'feature_selfoverlap_3d', 'fingerprint', 'inchi', 'inchikey', 'isomeric_smiles', 'iupac_name', 'mmff94_energy_3d', 'mmff94_partial_charges_3d', 'molecular_formula', 'multipoles_3d', 'pharmacophore_features_3d', 'record', 'shape_fingerprint_3d', 'shape_selfoverlap_3d', 'volume_3d']\n",
      "['Unnamed: 0', 'atoms', 'bonds', 'canonical_smiles', 'coordinate_type', 'elements', 'fingerprint', 'inchi', 'inchikey', 'isomeric_smiles', 'iupac_name', 'molecular_formula', 'record']\n",
      "['label', 'smiles']\n"
     ]
    }
   ],
   "source": [
    "relevant_features = ['atom_stereo_count', 'bond_stereo_count', 'charge', 'complexity',\n",
    "    'covalent_unit_count', 'defined_atom_stereo_count', 'defined_bond_stereo_count',\n",
    "    'exact_mass', 'cactvs_fingerprint', 'h_bond_acceptor_count', 'h_bond_donor_count',\n",
    "    'heavy_atom_count', 'isotope_atom_count', 'molecular_weight', 'monoisotopic_mass',\n",
    "    'rotatable_bond_count', 'tpsa', 'undefined_atom_stereo_count',\n",
    "    'undefined_bond_stereo_count','xlogp','label','smiles','cid']\n",
    "\n",
    "assay = 'sr-are'\n",
    "filename = os.path.join(os.getcwd(), 'features-pandas', 'test', '') + assay + '.features'\n",
    "\n",
    "df = pd.read_csv(filename, sep='\\t', header=0)\n",
    "cols_to_drop = [col for col in df.columns if col not in relevant_features]\n",
    "print(cols_to_drop)\n",
    "df.dropna(axis='columns', how='all', inplace=True)\n",
    "cols_to_drop = [col for col in df.columns if col not in relevant_features]\n",
    "print(cols_to_drop)\n",
    "othercols = [col for col in relevant_features if col not in df.columns]\n",
    "print(othercols)"
   ]
  },
  {
   "cell_type": "code",
   "execution_count": null,
   "metadata": {},
   "outputs": [],
   "source": [
    "# remove duplicates\n",
    "df.drop_duplicates(subset='smiles', keep='first', inplace=True)\n",
    "df.drop_duplicates(subset='cid', keep='first', inplace=True)\n",
    "\n",
    "# convert fingerprint string to integer features\n",
    "df = df.rename(index=str, columns={'cactvs_fingerprint': 'fingerprint'})\n",
    "fingerprints = df['fingerprint'] # pandas Series\n",
    "cids = df['cid'] # pandas Series\n",
    "num_compounds = fingerprints.size\n",
    "num_bits = len(fingerprints[0])\n",
    "fingerprint_index = ['f'+str(i) for i in range(num_bits)] # index fingerprints 'f0', 'f1', ...\n",
    "fingerprint_series_list = []\n",
    "for i in range(num_compounds): # loop through all compounds\n",
    "    fingerprint_series = pd.Series([int(c) for c in fingerprints[i]], index=fingerprint_index, name=cids[i])\n",
    "    fingerprint_series_list.append(fingerprint_series)\n",
    "fingerprint_df = pd.concat(fingerprint_series_list, axis=1) # rows labels = fingerprint_index, columns = cids\n",
    "fingerprint_df = fingerprint_df.T # rows labels = cids, columns = fingerprint_index\n",
    "\n",
    "# insert fingerprints into primary DataFrame\n",
    "df.set_index['cid']\n",
    "df = pd.concat([df, fingerprint_df], axis=1)\n",
    "\n",
    "labels = df['label'] # pandas Series\n",
    "df.drop(['label','cid','smiles','fingerprint'], axis=1, inplace=True)\n",
    "\n",
    "X = labels.values\n",
    "X = X.astype(float32)\n",
    "Y = df.values\n",
    "Y = Y.astype(int32)"
   ]
  },
  {
   "cell_type": "code",
   "execution_count": 19,
   "metadata": {},
   "outputs": [],
   "source": [
    "c1 = pcp.Compound.from_cid(13486)\n",
    "c2 = pcp.Compound.from_cid(14368099)"
   ]
  },
  {
   "cell_type": "code",
   "execution_count": 48,
   "metadata": {},
   "outputs": [
    {
     "name": "stdout",
     "output_type": "stream",
     "text": [
      "atom_stereo_count                                                              0\n",
      "bonds                          [{'aid1': 2, 'aid2': 8, 'order': 1, 'style': 8...\n",
      "cactvs_fingerprint             1110000001111011000000000000000001100000000000...\n",
      "cid                                                                        13486\n",
      "complexity                                                                   474\n",
      "coordinate_type                                                               2d\n",
      "covalent_unit_count                                                            2\n",
      "effective_rotor_count_3d                                                    None\n",
      "elements                       [I, S, S, N, N, C, C, C, C, C, C, C, C, C, C, ...\n",
      "fingerprint                    00000371E07B0000600200000000000000000000000162...\n",
      "h_bond_acceptor_count                                                          4\n",
      "inchi                          InChI=1S/C21H21N2S2.HI/c1-3-22-16-10-5-7-12-18...\n",
      "inchikey                                             VZBILKJHDPEENF-UHFFFAOYSA-M\n",
      "iupac_name                     3-ethyl-2-[3-(3-ethyl-1,3-benzothiazol-3-ium-2...\n",
      "mmff94_energy_3d                                                            None\n",
      "molecular_weight                                                         492.437\n",
      "monoisotopic_mass                                                        492.019\n",
      "record                         {'id': {'id': {'cid': 13486}}, 'atoms': {'aid'...\n",
      "rotatable_bond_count                                                           4\n",
      "tpsa                                                                        60.7\n",
      "undefined_atom_stereo_count                                                    0\n",
      "xlogp                                                                       None\n",
      "dtype: object\n"
     ]
    }
   ],
   "source": [
    "c1_series = c1.to_series()\n",
    "c2_series = c2.to_series()\n",
    "# print(c1_series)\n",
    "# print(sys.getsizeof(c1_series))\n",
    "# print(c1_series.index)\n",
    "print(c1_series[[True,False,False,True]*11])"
   ]
  },
  {
   "cell_type": "code",
   "execution_count": 14,
   "metadata": {},
   "outputs": [],
   "source": [
    "df = pd.concat([c1_series,c2_series],axis=1)"
   ]
  },
  {
   "cell_type": "code",
   "execution_count": 55,
   "metadata": {},
   "outputs": [
    {
     "data": {
      "text/plain": [
       "array(['atom_stereo_count', 'atoms', 'bond_stereo_count', 'bonds',\n",
       "       'cactvs_fingerprint', 'canonical_smiles', 'charge', 'cid',\n",
       "       'complexity', 'conformer_id_3d', 'conformer_rmsd_3d',\n",
       "       'coordinate_type', 'covalent_unit_count',\n",
       "       'defined_atom_stereo_count', 'defined_bond_stereo_count',\n",
       "       'effective_rotor_count_3d', 'elements', 'exact_mass',\n",
       "       'feature_selfoverlap_3d', 'fingerprint', 'h_bond_acceptor_count',\n",
       "       'h_bond_donor_count', 'heavy_atom_count', 'inchi', 'inchikey',\n",
       "       'isomeric_smiles', 'isotope_atom_count', 'iupac_name',\n",
       "       'mmff94_energy_3d', 'mmff94_partial_charges_3d',\n",
       "       'molecular_formula', 'molecular_weight', 'monoisotopic_mass',\n",
       "       'multipoles_3d', 'pharmacophore_features_3d', 'record',\n",
       "       'rotatable_bond_count', 'shape_fingerprint_3d',\n",
       "       'shape_selfoverlap_3d', 'tpsa', 'undefined_atom_stereo_count',\n",
       "       'undefined_bond_stereo_count', 'volume_3d', 'xlogp'], dtype=object)"
      ]
     },
     "execution_count": 55,
     "metadata": {},
     "output_type": "execute_result"
    }
   ],
   "source": [
    "df.columns\n",
    "df\n",
    "df.index.values"
   ]
  },
  {
   "cell_type": "code",
   "execution_count": 34,
   "metadata": {},
   "outputs": [
    {
     "data": {
      "text/plain": [
       "0    00000371E07B0000600200000000000000000000000162...\n",
       "1    00000371F07A3C00000000000000000000000000000162...\n",
       "Name: fingerprint, dtype: object"
      ]
     },
     "execution_count": 34,
     "metadata": {},
     "output_type": "execute_result"
    }
   ],
   "source": [
    "a = df.T\n",
    "a = a['fingerprint']\n",
    "a"
   ]
  },
  {
   "cell_type": "code",
   "execution_count": 36,
   "metadata": {},
   "outputs": [
    {
     "data": {
      "text/plain": [
       "['f0', 'f1', 'f2', 'f3', 'f4', 'f5', 'f6', 'f7', 'f8', 'f9']"
      ]
     },
     "execution_count": 36,
     "metadata": {},
     "output_type": "execute_result"
    }
   ],
   "source": [
    "fingerprint_columns = ['f'+str(i) for i in range(10)]\n",
    "fingerprint_columns"
   ]
  }
 ],
 "metadata": {
  "kernelspec": {
   "display_name": "Python 3",
   "language": "python",
   "name": "python3"
  },
  "language_info": {
   "codemirror_mode": {
    "name": "ipython",
    "version": 3
   },
   "file_extension": ".py",
   "mimetype": "text/x-python",
   "name": "python",
   "nbconvert_exporter": "python",
   "pygments_lexer": "ipython3",
   "version": "3.6.3"
  }
 },
 "nbformat": 4,
 "nbformat_minor": 2
}
