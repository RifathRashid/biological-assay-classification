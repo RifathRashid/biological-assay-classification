{
 "cells": [
  {
   "cell_type": "code",
   "execution_count": 2,
   "metadata": {},
   "outputs": [],
   "source": [
    "import pandas as pd\n",
    "import os"
   ]
  },
  {
   "cell_type": "code",
   "execution_count": 26,
   "metadata": {},
   "outputs": [],
   "source": [
    "assay = 'sr-are'\n",
    "\n",
    "data_file = os.path.join(os.getcwd(),'data','train','') + assay + '.smiles'\n",
    "\n",
    "output_folder = os.path.join(os.getcwd(), 'padel', 'train', assay, '')\n",
    "\n",
    "df = pd.read_csv(data_file, sep='\\t', header=None)\n",
    "for i in range(df.shape[0]):\n",
    "    with open(output_folder + df.iloc[i,1] + '.smi', 'w') as f:\n",
    "        f.write(df.iloc[i,0])"
   ]
  }
 ],
 "metadata": {
  "kernelspec": {
   "display_name": "Python 3",
   "language": "python",
   "name": "python3"
  },
  "language_info": {
   "codemirror_mode": {
    "name": "ipython",
    "version": 3
   },
   "file_extension": ".py",
   "mimetype": "text/x-python",
   "name": "python",
   "nbconvert_exporter": "python",
   "pygments_lexer": "ipython3",
   "version": "3.6.3"
  }
 },
 "nbformat": 4,
 "nbformat_minor": 2
}
